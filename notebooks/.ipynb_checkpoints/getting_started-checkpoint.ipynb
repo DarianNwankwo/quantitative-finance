{
 "cells": [
  {
   "cell_type": "markdown",
   "id": "75df1eb0-9e13-4dab-9758-9ba2dc38f912",
   "metadata": {},
   "source": [
    "# Getting Started with Jupyter"
   ]
  }
 ],
 "metadata": {
  "kernelspec": {
   "display_name": "Python 3 (ipykernel)",
   "language": "python",
   "name": "python3"
  },
  "language_info": {
   "codemirror_mode": {
    "name": "ipython",
    "version": 3
   },
   "file_extension": ".py",
   "mimetype": "text/x-python",
   "name": "python",
   "nbconvert_exporter": "python",
   "pygments_lexer": "ipython3",
   "version": "3.8.11"
  }
 },
 "nbformat": 4,
 "nbformat_minor": 5
}
